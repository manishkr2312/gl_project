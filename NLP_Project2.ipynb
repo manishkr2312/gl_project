{
 "cells": [
  {
   "cell_type": "code",
   "execution_count": 21,
   "id": "39fcdf22",
   "metadata": {
    "colab": {
     "base_uri": "https://localhost:8080/"
    },
    "id": "39fcdf22",
    "outputId": "7747c4a8-1fcd-4208-fe2a-1450e91deda2"
   },
   "outputs": [
    {
     "name": "stdout",
     "output_type": "stream",
     "text": [
      "Requirement already satisfied: langdetect in c:\\users\\user\\anaconda3\\lib\\site-packages (1.0.9)\n",
      "Requirement already satisfied: six in c:\\users\\user\\anaconda3\\lib\\site-packages (from langdetect) (1.16.0)\n",
      "Requirement already satisfied: tqdm in c:\\users\\user\\anaconda3\\lib\\site-packages (4.64.0)\n",
      "Requirement already satisfied: colorama in c:\\users\\user\\anaconda3\\lib\\site-packages (from tqdm) (0.4.4)\n",
      "CPU times: total: 15.6 ms\n",
      "Wall time: 5.19 s\n"
     ]
    }
   ],
   "source": [
    "%%time\n",
    "#Libraries import\n",
    "#pip install imblearn --user\n",
    "#!pip install tflearn\n",
    "#importing some basic libraries\n",
    "#!pip install scikit-image\n",
    "!pip install langdetect\n",
    "!pip install tqdm\n",
    "import os\n",
    "from pathlib import Path\n",
    "from zipfile import ZipFile as zf\n",
    "import skimage.io as io\n",
    "import pandas as pd\n",
    "import numpy as np\n",
    "import matplotlib.pyplot as plt\n",
    "%matplotlib inline\n",
    "import seaborn as sns\n",
    "import tensorflow as tf\n",
    "import warnings\n",
    "import random\n",
    "from random import randint\n",
    "import pickle\n",
    "warnings.simplefilter(\"ignore\")\n",
    "from sklearn.neighbors import KNeighborsClassifier \n",
    "from sklearn.ensemble import RandomForestClassifier\n",
    "from sklearn.metrics import accuracy_score, confusion_matrix,classification_report,precision_score,recall_score\n",
    "from sklearn.model_selection import train_test_split\n",
    "from sklearn.feature_extraction.text import TfidfVectorizer,CountVectorizer\n",
    "from sklearn.preprocessing import LabelEncoder\n",
    "from sklearn.model_selection import cross_val_score,RandomizedSearchCV,GridSearchCV\n",
    "from sklearn import metrics\n",
    "from sklearn.metrics import r2_score,roc_auc_score\n",
    "from langdetect import detect\n",
    "from tqdm.notebook import tqdm\n",
    "from keras.utils import to_categorical\n",
    "from keras import models\n",
    "from keras import layers\n",
    "import math\n",
    "import re\n",
    "import nltk\n",
    "from nltk.corpus import stopwords\n",
    "#nltk.download('stopwords')\n",
    "from imblearn.over_sampling import SMOTE"
   ]
  },
  {
   "cell_type": "code",
   "execution_count": 2,
   "id": "uOr-OiPGrezt",
   "metadata": {
    "colab": {
     "base_uri": "https://localhost:8080/"
    },
    "id": "uOr-OiPGrezt",
    "outputId": "a761ccc1-1b97-4568-928e-4f7892794927"
   },
   "outputs": [
    {
     "name": "stdout",
     "output_type": "stream",
     "text": [
      "pandas version:  1.5.0\n"
     ]
    }
   ],
   "source": [
    "print(\"pandas version: \",pd.__version__)\n",
    "#from google.colab import drive\n",
    "#drive.mount('/content/drive')"
   ]
  },
  {
   "cell_type": "markdown",
   "id": "4cfbb627",
   "metadata": {
    "id": "4cfbb627"
   },
   "source": [
    "## PART A \n",
    "DOMAIN: Digital content and entertainment industry\n",
    "\n",
    "CONTEXT: The objective of this project is to build a text classification model that analyses the customer's\n",
    "sentiments based on their reviews in the IMDB database. The model uses a complex deep learning model to build\n",
    "an embedding layer followed by a classification algorithm to analyse the sentiment of the customers."
   ]
  },
  {
   "cell_type": "markdown",
   "id": "6a912d5f",
   "metadata": {
    "id": "6a912d5f"
   },
   "source": [
    "#### Steps and tasks: [Total Score: 30 Marks]"
   ]
  },
  {
   "cell_type": "markdown",
   "id": "a02ed625",
   "metadata": {
    "id": "a02ed625"
   },
   "source": [
    "#### Solution 1. Import and analyse the data set. [5 Marks]\n",
    "Hint: - Use `imdb.load_data()` method\n",
    "- Get train and test set\n",
    "- Take 10000 most frequent words"
   ]
  },
  {
   "cell_type": "code",
   "execution_count": 3,
   "id": "f39b18e6",
   "metadata": {
    "colab": {
     "base_uri": "https://localhost:8080/"
    },
    "id": "f39b18e6",
    "outputId": "0fe7436b-4259-48f8-e725-2c3c01323743"
   },
   "outputs": [
    {
     "name": "stdout",
     "output_type": "stream",
     "text": [
      "Downloading data from https://storage.googleapis.com/tensorflow/tf-keras-datasets/imdb.npz\n",
      "17464789/17464789 [==============================] - 4s 0us/step\n"
     ]
    }
   ],
   "source": [
    "top_words = 10000\n",
    "(x_train, y_train), (x_test, y_test) = tf.keras.datasets.imdb.load_data(num_words=top_words)"
   ]
  },
  {
   "cell_type": "markdown",
   "id": "G5R9I0BD_-ul",
   "metadata": {
    "id": "G5R9I0BD_-ul"
   },
   "source": [
    "#### To prove we have limited ourselves to the 10,000 most frequent words we will iterate over all the reviews and check the maximum value."
   ]
  },
  {
   "cell_type": "code",
   "execution_count": 4,
   "id": "mKvrD-1__9K9",
   "metadata": {
    "colab": {
     "base_uri": "https://localhost:8080/"
    },
    "id": "mKvrD-1__9K9",
    "outputId": "5f5a142f-c43e-421a-9646-e7f88e0279bc"
   },
   "outputs": [
    {
     "name": "stdout",
     "output_type": "stream",
     "text": [
      "9999\n"
     ]
    }
   ],
   "source": [
    "\n",
    "print(max([max(review) for review in x_train]))"
   ]
  },
  {
   "cell_type": "markdown",
   "id": "VuG33OMG71Gk",
   "metadata": {
    "id": "VuG33OMG71Gk"
   },
   "source": [
    "### The dataset comes preprocessed. Each example is an array of integers representing the words of the movie review. Each label is either a \"0\" for negative or \"1\" for positive."
   ]
  },
  {
   "cell_type": "code",
   "execution_count": 5,
   "id": "JuDS62DW3zvh",
   "metadata": {
    "colab": {
     "base_uri": "https://localhost:8080/"
    },
    "id": "JuDS62DW3zvh",
    "outputId": "967f0a05-2d59-4670-a0f0-22914af00670"
   },
   "outputs": [
    {
     "name": "stdout",
     "output_type": "stream",
     "text": [
      "[1, 14, 22, 16, 43, 530, 973, 1622, 1385, 65, 458, 4468, 66, 3941, 4, 173, 36, 256, 5, 25, 100, 43, 838, 112, 50, 670, 2, 9, 35, 480, 284, 5, 150, 4, 172, 112, 167, 2, 336, 385, 39, 4, 172, 4536, 1111, 17, 546, 38, 13, 447, 4, 192, 50, 16, 6, 147, 2025, 19, 14, 22, 4, 1920, 4613, 469, 4, 22, 71, 87, 12, 16, 43, 530, 38, 76, 15, 13, 1247, 4, 22, 17, 515, 17, 12, 16, 626, 18, 2, 5, 62, 386, 12, 8, 316, 8, 106, 5, 4, 2223, 5244, 16, 480, 66, 3785, 33, 4, 130, 12, 16, 38, 619, 5, 25, 124, 51, 36, 135, 48, 25, 1415, 33, 6, 22, 12, 215, 28, 77, 52, 5, 14, 407, 16, 82, 2, 8, 4, 107, 117, 5952, 15, 256, 4, 2, 7, 3766, 5, 723, 36, 71, 43, 530, 476, 26, 400, 317, 46, 7, 4, 2, 1029, 13, 104, 88, 4, 381, 15, 297, 98, 32, 2071, 56, 26, 141, 6, 194, 7486, 18, 4, 226, 22, 21, 134, 476, 26, 480, 5, 144, 30, 5535, 18, 51, 36, 28, 224, 92, 25, 104, 4, 226, 65, 16, 38, 1334, 88, 12, 16, 283, 5, 16, 4472, 113, 103, 32, 15, 16, 5345, 19, 178, 32]\n",
      "[1 0 0 ... 0 1 0]\n"
     ]
    }
   ],
   "source": [
    "print(x_train[0])\n",
    "print(y_train)"
   ]
  },
  {
   "cell_type": "code",
   "execution_count": 6,
   "id": "eVOxn2Bj67eZ",
   "metadata": {
    "colab": {
     "base_uri": "https://localhost:8080/"
    },
    "id": "eVOxn2Bj67eZ",
    "outputId": "bdc846ce-e03b-4f8f-d355-94ca88b27a14"
   },
   "outputs": [
    {
     "name": "stdout",
     "output_type": "stream",
     "text": [
      "12500\n",
      "12500\n",
      "12500\n",
      "12500\n"
     ]
    }
   ],
   "source": [
    "print(len(y_train[y_train==1]))\n",
    "print(len(y_train[y_train==0]))\n",
    "print(len(y_test[y_test==1]))\n",
    "print(len(y_test[y_test==0]))"
   ]
  },
  {
   "cell_type": "markdown",
   "id": "7HKqjmkD__v_",
   "metadata": {
    "id": "7HKqjmkD__v_"
   },
   "source": [
    "Data is in balance"
   ]
  },
  {
   "cell_type": "markdown",
   "id": "jjd3RbDu8rGs",
   "metadata": {
    "id": "jjd3RbDu8rGs"
   },
   "source": [
    "### Solution 2. Perform relevant sequence adding on the data. [5 Marks]"
   ]
  },
  {
   "cell_type": "code",
   "execution_count": 7,
   "id": "ghA3HucT7x-9",
   "metadata": {
    "id": "ghA3HucT7x-9"
   },
   "outputs": [],
   "source": [
    "#created method to perform relevant sequence adding on the data\n",
    "def vectorize(sequences, dimension = 10000):\n",
    "    results = np.zeros((len(sequences), dimension))\n",
    "    for i, sequence in enumerate(sequences):\n",
    "        results[i, sequence] = 1\n",
    "    return results"
   ]
  },
  {
   "cell_type": "code",
   "execution_count": 8,
   "id": "oLT3S1dXevGu",
   "metadata": {
    "colab": {
     "base_uri": "https://localhost:8080/"
    },
    "id": "oLT3S1dXevGu",
    "outputId": "fc22553f-5c01-4e80-e169-f8a50156f83d"
   },
   "outputs": [
    {
     "name": "stdout",
     "output_type": "stream",
     "text": [
      "[1. 0. 0. ... 0. 0. 0.]\n"
     ]
    }
   ],
   "source": [
    "#consolidating data for EDA\n",
    "data = np.concatenate((x_train, x_test), axis=0)\n",
    "label = np.concatenate((y_train, y_test), axis=0)\n",
    "#Adding sequence to data\n",
    "data = vectorize(data)\n",
    "label = np.array(label).astype(\"float32\")\n",
    "print(label)"
   ]
  },
  {
   "cell_type": "markdown",
   "id": "Q8bM3wfD0c7F",
   "metadata": {
    "id": "Q8bM3wfD0c7F"
   },
   "source": [
    "#### 3. Perform following data analysis: [5 Marks]\n",
    "• Print shape of features and labels\n",
    "\n",
    "• Print value of any one feature and it's label"
   ]
  },
  {
   "cell_type": "code",
   "execution_count": 9,
   "id": "ce654818",
   "metadata": {
    "colab": {
     "base_uri": "https://localhost:8080/"
    },
    "id": "ce654818",
    "outputId": "c4f261b4-b9d0-4734-d5cb-bb0d0a3ead35"
   },
   "outputs": [
    {
     "name": "stdout",
     "output_type": "stream",
     "text": [
      "(25000,)\n",
      "(25000,)\n",
      "[1, 14, 22, 16, 43, 530, 973, 1622, 1385, 65, 458, 4468, 66, 3941, 4, 173, 36, 256, 5, 25, 100, 43, 838, 112, 50, 670, 2, 9, 35, 480, 284, 5, 150, 4, 172, 112, 167, 2, 336, 385, 39, 4, 172, 4536, 1111, 17, 546, 38, 13, 447, 4, 192, 50, 16, 6, 147, 2025, 19, 14, 22, 4, 1920, 4613, 469, 4, 22, 71, 87, 12, 16, 43, 530, 38, 76, 15, 13, 1247, 4, 22, 17, 515, 17, 12, 16, 626, 18, 2, 5, 62, 386, 12, 8, 316, 8, 106, 5, 4, 2223, 5244, 16, 480, 66, 3785, 33, 4, 130, 12, 16, 38, 619, 5, 25, 124, 51, 36, 135, 48, 25, 1415, 33, 6, 22, 12, 215, 28, 77, 52, 5, 14, 407, 16, 82, 2, 8, 4, 107, 117, 5952, 15, 256, 4, 2, 7, 3766, 5, 723, 36, 71, 43, 530, 476, 26, 400, 317, 46, 7, 4, 2, 1029, 13, 104, 88, 4, 381, 15, 297, 98, 32, 2071, 56, 26, 141, 6, 194, 7486, 18, 4, 226, 22, 21, 134, 476, 26, 480, 5, 144, 30, 5535, 18, 51, 36, 28, 224, 92, 25, 104, 4, 226, 65, 16, 38, 1334, 88, 12, 16, 283, 5, 16, 4472, 113, 103, 32, 15, 16, 5345, 19, 178, 32]\n",
      "1\n"
     ]
    }
   ],
   "source": [
    "print(x_train.shape)\n",
    "print(y_train.shape)\n",
    "print(x_train[0])\n",
    "print(y_train[0])"
   ]
  },
  {
   "cell_type": "code",
   "execution_count": 10,
   "id": "1RZ-OJYSfhVA",
   "metadata": {
    "colab": {
     "base_uri": "https://localhost:8080/"
    },
    "id": "1RZ-OJYSfhVA",
    "outputId": "1f1c123c-f3af-4ebb-db18-a456c417dd0e"
   },
   "outputs": [
    {
     "name": "stdout",
     "output_type": "stream",
     "text": [
      "Categories: [0. 1.]\n",
      "Number of unique words: 2\n"
     ]
    }
   ],
   "source": [
    "print(\"Categories:\", np.unique(label))\n",
    "print(\"Number of unique words:\", len(np.unique(np.hstack(data))))"
   ]
  },
  {
   "cell_type": "code",
   "execution_count": 11,
   "id": "ZnsiDOJrfxUA",
   "metadata": {
    "id": "ZnsiDOJrfxUA"
   },
   "outputs": [
    {
     "name": "stdout",
     "output_type": "stream",
     "text": [
      "Average Review length: 10000.0\n",
      "Standard Deviation: 0\n"
     ]
    }
   ],
   "source": [
    "length = [len(i) for i in data]\n",
    "print(\"Average Review length:\", np.mean(length))\n",
    "print(\"Standard Deviation:\", round(np.std(length)))"
   ]
  },
  {
   "cell_type": "code",
   "execution_count": 12,
   "id": "kvepA4Inf1zW",
   "metadata": {
    "colab": {
     "base_uri": "https://localhost:8080/",
     "height": 189
    },
    "id": "kvepA4Inf1zW",
    "outputId": "b6a6579d-8f0e-4bf3-b86e-2d49b80019aa"
   },
   "outputs": [
    {
     "data": {
      "text/plain": [
       "<AxesSubplot:xlabel='label', ylabel='count'>"
      ]
     },
     "execution_count": 12,
     "metadata": {},
     "output_type": "execute_result"
    },
    {
     "data": {
      "image/png": "[encoded data removed]",
      "text/plain": [
       "<Figure size 432x288 with 1 Axes>"
      ]
     },
     "metadata": {
      "needs_background": "light"
     },
     "output_type": "display_data"
    }
   ],
   "source": [
    "#check the distribution of labels\n",
    "sns.countplot(x='label', data=pd.DataFrame({'label':label}))"
   ]
  },
  {
   "cell_type": "markdown",
   "id": "Qpy-Tvh9h660",
   "metadata": {
    "id": "Qpy-Tvh9h660"
   },
   "source": [
    "#### Data above is evenly distributed"
   ]
  },
  {
   "cell_type": "markdown",
   "id": "8FxOy0Lx0uRQ",
   "metadata": {
    "id": "8FxOy0Lx0uRQ"
   },
   "source": [
    "#### Solution 4. Decode the feature value to get original sentence [5 Marks]"
   ]
  },
  {
   "cell_type": "markdown",
   "id": "1eNhM0DTAdTJ",
   "metadata": {
    "id": "1eNhM0DTAdTJ"
   },
   "source": [
    "#### We will get the dictionary from tf.keras.datasets.imdb.get_word_index which hashes the words to their corresponding integers. We will then try to convert a review from integers back into it's original text by first reversing this dictionary and then iterating over a review and converting the integers to strings."
   ]
  },
  {
   "cell_type": "code",
   "execution_count": 13,
   "id": "o1Vegfu8Algt",
   "metadata": {
    "id": "o1Vegfu8Algt"
   },
   "outputs": [
    {
     "name": "stdout",
     "output_type": "stream",
     "text": [
      "Downloading data from https://storage.googleapis.com/tensorflow/tf-keras-datasets/imdb_word_index.json\n",
      "1641221/1641221 [==============================] - 0s 0us/step\n",
      "['fawn', 'tsukino', 'nunnery', 'sonja', 'vani', 'woods', 'spiders', 'hanging', 'woody', 'trawling', \"hold's\", 'comically', 'localized', 'disobeying', \"'royale\", \"harpo's\", 'canet', 'aileen', 'acurately', \"diplomat's\"]\n",
      "the\n",
      "and\n",
      "UNK this film was just brilliant casting location scenery story direction everyone's really suited the part they played and you could just imagine being there robert UNK is an amazing actor and now the same being director UNK father came from the same scottish island as myself so i loved the fact there was a real connection with this film the witty remarks throughout the film were great it was just brilliant so much that i bought the film as soon as it was released for UNK and would recommend it to everyone to watch and the fly fishing was amazing really cried at the end it was so sad and you know what they say if you cry at a film it must have been good and this definitely was also UNK to the two little boy's that played the UNK of norman and paul they were just brilliant children are often left out of the UNK list i think because the stars that play them all grown up are such a big profile for the whole film but these children are amazing and should be praised for what they have done don't you think the whole story was so lovely because it was true and was someone's life after all that was shared with us all\n"
     ]
    }
   ],
   "source": [
    "# Dictionary that hashes words to their integer\n",
    "word_to_integer = tf.keras.datasets.imdb.get_word_index()\n",
    "\n",
    "# Print out the first twenty keys in the dictionary\n",
    "print(list(word_to_integer.keys())[0:20])\n",
    "\n",
    "integer_to_word = dict([(v, k) for (k, v) in word_to_integer.items()])\n",
    "\n",
    "# Demonstrate how to find the word from an integer\n",
    "print(integer_to_word[1])\n",
    "print(integer_to_word[2])\n",
    "\n",
    "# Will be subtracting 3 from the indices because 0 is \"padding\", 1 is \"start of sequence\", and 2 is \"unknown\"\n",
    "decoded_review = ' '.join([integer_to_word.get(i - 3, 'UNK') for i in x_train[0]])\n",
    "print(decoded_review)"
   ]
  },
  {
   "cell_type": "markdown",
   "id": "AexjbtQi2585",
   "metadata": {
    "id": "AexjbtQi2585"
   },
   "source": [
    "#### Solution 5. Design, train, tune and test a sequential model. [5 Marks]\n",
    "Hint: The aim here Is to import the text, process it such a way that it can be taken as an inout to the ML/NN classifiers. Be\n",
    "analytical and experimental here in trying new approaches to design the best model."
   ]
  },
  {
   "cell_type": "code",
   "execution_count": 18,
   "id": "DAHI4VAE0hJY",
   "metadata": {
    "id": "DAHI4VAE0hJY"
   },
   "outputs": [],
   "source": [
    "Xtrain, Xtest, ytrain, ytest = train_test_split(data,label, test_size=0.30, random_state=1)"
   ]
  },
  {
   "cell_type": "code",
   "execution_count": 19,
   "id": "QeVlXs7Jif2_",
   "metadata": {
    "colab": {
     "base_uri": "https://localhost:8080/",
     "height": 225
    },
    "id": "QeVlXs7Jif2_",
    "outputId": "7185a3cf-1bbc-4037-96f8-f72791322f36"
   },
   "outputs": [
    {
     "name": "stdout",
     "output_type": "stream",
     "text": [
      "(35000, 10000)\n",
      "(35000,)\n",
      "(15000, 10000)\n",
      "(15000,)\n"
     ]
    }
   ],
   "source": [
    "print(Xtrain.shape)\n",
    "print(ytrain.shape)\n",
    "print(Xtest.shape)\n",
    "print(ytest.shape)"
   ]
  },
  {
   "cell_type": "code",
   "execution_count": 22,
   "id": "cb9314f5",
   "metadata": {},
   "outputs": [
    {
     "name": "stdout",
     "output_type": "stream",
     "text": [
      "Model: \"sequential\"\n",
      "_________________________________________________________________\n",
      " Layer (type)                Output Shape              Param #   \n",
      "=================================================================\n",
      " dense (Dense)               (None, 50)                500050    \n",
      "                                                                 \n",
      " dropout (Dropout)           (None, 50)                0         \n",
      "                                                                 \n",
      " dense_1 (Dense)             (None, 50)                2550      \n",
      "                                                                 \n",
      " dropout_1 (Dropout)         (None, 50)                0         \n",
      "                                                                 \n",
      " dense_2 (Dense)             (None, 50)                2550      \n",
      "                                                                 \n",
      " dense_3 (Dense)             (None, 1)                 51        \n",
      "                                                                 \n",
      "=================================================================\n",
      "Total params: 505,201\n",
      "Trainable params: 505,201\n",
      "Non-trainable params: 0\n",
      "_________________________________________________________________\n"
     ]
    }
   ],
   "source": [
    "model = models.Sequential()\n",
    "# Input - Layer\n",
    "model.add(layers.Dense(50, activation = \"relu\", input_shape=(10000, )))\n",
    "# Hidden - Layers\n",
    "model.add(layers.Dropout(0.3, noise_shape=None, seed=None))\n",
    "model.add(layers.Dense(50, activation = \"relu\"))\n",
    "model.add(layers.Dropout(0.2, noise_shape=None, seed=None))\n",
    "model.add(layers.Dense(50, activation = \"relu\"))\n",
    "# Output- Layer\n",
    "model.add(layers.Dense(1, activation = \"sigmoid\"))\n",
    "model.summary()"
   ]
  },
  {
   "cell_type": "code",
   "execution_count": 23,
   "id": "e7a54630",
   "metadata": {},
   "outputs": [],
   "source": [
    "callback = tf.keras.callbacks.EarlyStopping(monitor='loss', patience=3)"
   ]
  },
  {
   "cell_type": "code",
   "execution_count": 25,
   "id": "c2a022b6",
   "metadata": {},
   "outputs": [],
   "source": [
    "model.compile(optimizer = \"adam\", loss = \"binary_crossentropy\", metrics = [\"accuracy\"])"
   ]
  },
  {
   "cell_type": "code",
   "execution_count": 26,
   "id": "f46c72bc",
   "metadata": {
    "scrolled": true
   },
   "outputs": [
    {
     "name": "stdout",
     "output_type": "stream",
     "text": [
      "Epoch 1/100\n",
      "875/875 [==============================] - 4s 4ms/step - loss: 0.3272 - accuracy: 0.8618 - val_loss: 0.2667 - val_accuracy: 0.8907\n",
      "Epoch 2/100\n",
      "875/875 [==============================] - 3s 3ms/step - loss: 0.1990 - accuracy: 0.9230 - val_loss: 0.2848 - val_accuracy: 0.8877\n",
      "Epoch 3/100\n",
      "875/875 [==============================] - 3s 3ms/step - loss: 0.1358 - accuracy: 0.9498 - val_loss: 0.3246 - val_accuracy: 0.8855\n",
      "Epoch 4/100\n",
      "875/875 [==============================] - 3s 3ms/step - loss: 0.0969 - accuracy: 0.9648 - val_loss: 0.3620 - val_accuracy: 0.8846\n",
      "Epoch 5/100\n",
      "875/875 [==============================] - 3s 3ms/step - loss: 0.0737 - accuracy: 0.9738 - val_loss: 0.4202 - val_accuracy: 0.8828\n",
      "Epoch 6/100\n",
      "875/875 [==============================] - 3s 3ms/step - loss: 0.0599 - accuracy: 0.9779 - val_loss: 0.5165 - val_accuracy: 0.8797\n",
      "Epoch 7/100\n",
      "875/875 [==============================] - 3s 3ms/step - loss: 0.0508 - accuracy: 0.9801 - val_loss: 0.5175 - val_accuracy: 0.8805\n",
      "Epoch 8/100\n",
      "875/875 [==============================] - 3s 3ms/step - loss: 0.0473 - accuracy: 0.9816 - val_loss: 0.5314 - val_accuracy: 0.8826\n",
      "Epoch 9/100\n",
      "875/875 [==============================] - 3s 3ms/step - loss: 0.0419 - accuracy: 0.9841 - val_loss: 0.5576 - val_accuracy: 0.8845\n",
      "Epoch 10/100\n",
      "875/875 [==============================] - 3s 3ms/step - loss: 0.0408 - accuracy: 0.9847 - val_loss: 0.5625 - val_accuracy: 0.8838\n",
      "Epoch 11/100\n",
      "875/875 [==============================] - 3s 3ms/step - loss: 0.0389 - accuracy: 0.9849 - val_loss: 0.5747 - val_accuracy: 0.8818\n",
      "Epoch 12/100\n",
      "875/875 [==============================] - 3s 3ms/step - loss: 0.0337 - accuracy: 0.9868 - val_loss: 0.6671 - val_accuracy: 0.8790\n",
      "Epoch 13/100\n",
      "875/875 [==============================] - 3s 3ms/step - loss: 0.0314 - accuracy: 0.9883 - val_loss: 0.5966 - val_accuracy: 0.8809\n",
      "Epoch 14/100\n",
      "875/875 [==============================] - 3s 3ms/step - loss: 0.0310 - accuracy: 0.9882 - val_loss: 0.6178 - val_accuracy: 0.8761\n",
      "Epoch 15/100\n",
      "875/875 [==============================] - 3s 3ms/step - loss: 0.0300 - accuracy: 0.9875 - val_loss: 0.6643 - val_accuracy: 0.8809\n",
      "Epoch 16/100\n",
      "875/875 [==============================] - 3s 3ms/step - loss: 0.0281 - accuracy: 0.9889 - val_loss: 0.6934 - val_accuracy: 0.8818\n",
      "Epoch 17/100\n",
      "875/875 [==============================] - 3s 3ms/step - loss: 0.0279 - accuracy: 0.9888 - val_loss: 0.7123 - val_accuracy: 0.8818\n",
      "Epoch 18/100\n",
      "875/875 [==============================] - 3s 3ms/step - loss: 0.0263 - accuracy: 0.9895 - val_loss: 0.6697 - val_accuracy: 0.8807\n",
      "Epoch 19/100\n",
      "875/875 [==============================] - 3s 3ms/step - loss: 0.0260 - accuracy: 0.9889 - val_loss: 0.6468 - val_accuracy: 0.8819\n",
      "Epoch 20/100\n",
      "875/875 [==============================] - 3s 3ms/step - loss: 0.0261 - accuracy: 0.9894 - val_loss: 0.7532 - val_accuracy: 0.8807\n",
      "Epoch 21/100\n",
      "875/875 [==============================] - 3s 3ms/step - loss: 0.0222 - accuracy: 0.9909 - val_loss: 0.7734 - val_accuracy: 0.8802\n",
      "Epoch 22/100\n",
      "875/875 [==============================] - 3s 3ms/step - loss: 0.0240 - accuracy: 0.9903 - val_loss: 0.8083 - val_accuracy: 0.8808\n",
      "Epoch 23/100\n",
      "875/875 [==============================] - 3s 3ms/step - loss: 0.0219 - accuracy: 0.9914 - val_loss: 0.8058 - val_accuracy: 0.8809\n",
      "Epoch 24/100\n",
      "875/875 [==============================] - 3s 3ms/step - loss: 0.0208 - accuracy: 0.9912 - val_loss: 0.8064 - val_accuracy: 0.8817\n",
      "Epoch 25/100\n",
      "875/875 [==============================] - 3s 3ms/step - loss: 0.0210 - accuracy: 0.9916 - val_loss: 0.7104 - val_accuracy: 0.8808\n",
      "Epoch 26/100\n",
      "875/875 [==============================] - 3s 3ms/step - loss: 0.0196 - accuracy: 0.9921 - val_loss: 0.8513 - val_accuracy: 0.8799\n",
      "Epoch 27/100\n",
      "875/875 [==============================] - 3s 3ms/step - loss: 0.0212 - accuracy: 0.9920 - val_loss: 0.7927 - val_accuracy: 0.8839\n",
      "Epoch 28/100\n",
      "875/875 [==============================] - 3s 3ms/step - loss: 0.0190 - accuracy: 0.9919 - val_loss: 0.7862 - val_accuracy: 0.8831\n",
      "Epoch 29/100\n",
      "875/875 [==============================] - 3s 3ms/step - loss: 0.0193 - accuracy: 0.9919 - val_loss: 0.8125 - val_accuracy: 0.8824\n",
      "Epoch 30/100\n",
      "875/875 [==============================] - 3s 3ms/step - loss: 0.0170 - accuracy: 0.9925 - val_loss: 0.9138 - val_accuracy: 0.8800\n",
      "Epoch 31/100\n",
      "875/875 [==============================] - 3s 3ms/step - loss: 0.0232 - accuracy: 0.9908 - val_loss: 0.7481 - val_accuracy: 0.8803\n",
      "Epoch 32/100\n",
      "875/875 [==============================] - 3s 3ms/step - loss: 0.0193 - accuracy: 0.9924 - val_loss: 0.9010 - val_accuracy: 0.8802\n",
      "Epoch 33/100\n",
      "875/875 [==============================] - 3s 3ms/step - loss: 0.0178 - accuracy: 0.9929 - val_loss: 0.8550 - val_accuracy: 0.8759\n"
     ]
    }
   ],
   "source": [
    "results = model.fit(Xtrain, ytrain, epochs= 100, batch_size = 40, validation_data = (Xtest, ytest), callbacks=[callback])"
   ]
  },
  {
   "cell_type": "code",
   "execution_count": 27,
   "id": "cb7a4c86",
   "metadata": {},
   "outputs": [
    {
     "name": "stdout",
     "output_type": "stream",
     "text": [
      "dict_keys(['loss', 'accuracy', 'val_loss', 'val_accuracy'])\n"
     ]
    },
    {
     "data": {
      "image/png": "[encoded data removed]",
      "text/plain": [
       "<Figure size 432x288 with 1 Axes>"
      ]
     },
     "metadata": {
      "needs_background": "light"
     },
     "output_type": "display_data"
    },
    {
     "data": {
      "image/png": "[encoded data removed]",
      "text/plain": [
       "<Figure size 432x288 with 1 Axes>"
      ]
     },
     "metadata": {
      "needs_background": "light"
     },
     "output_type": "display_data"
    }
   ],
   "source": [
    "#Let's plot training history of our model\n",
    "\n",
    "# list all data in history\n",
    "print(results.history.keys())\n",
    "# summarize history for accuracy\n",
    "plt.plot(results.history['accuracy'])\n",
    "plt.plot(results.history['val_accuracy'])\n",
    "plt.title('model accuracy')\n",
    "plt.ylabel('accuracy')\n",
    "plt.xlabel('epoch')\n",
    "plt.legend(['train', 'test'], loc='upper left')\n",
    "plt.show()\n",
    "# summarize history for loss\n",
    "plt.plot(results.history['loss'])\n",
    "plt.plot(results.history['val_loss'])\n",
    "plt.title('model loss')\n",
    "plt.ylabel('loss')\n",
    "plt.xlabel('epoch')\n",
    "plt.legend(['train', 'test'], loc='upper left')\n",
    "plt.show()"
   ]
  },
  {
   "cell_type": "code",
   "execution_count": 29,
   "id": "93ff009d",
   "metadata": {},
   "outputs": [
    {
     "name": "stdout",
     "output_type": "stream",
     "text": [
      "469/469 [==============================] - 1s 1ms/step\n"
     ]
    },
    {
     "data": {
      "text/plain": [
       "array([[1.3563030e-02],\n",
       "       [1.0000000e+00],\n",
       "       [9.1158742e-01],\n",
       "       ...,\n",
       "       [1.4514184e-19],\n",
       "       [1.5782607e-05],\n",
       "       [1.0000000e+00]], dtype=float32)"
      ]
     },
     "execution_count": 29,
     "metadata": {},
     "output_type": "execute_result"
    }
   ],
   "source": [
    "model.predict(Xtest)"
   ]
  },
  {
   "cell_type": "code",
   "execution_count": null,
   "id": "37326d12",
   "metadata": {},
   "outputs": [],
   "source": []
  },
  {
   "cell_type": "code",
   "execution_count": null,
   "id": "9e78f082",
   "metadata": {},
   "outputs": [],
   "source": []
  },
  {
   "cell_type": "code",
   "execution_count": null,
   "id": "5b0275df",
   "metadata": {
    "id": "5b0275df"
   },
   "outputs": [],
   "source": [
    "INDEX_START=1\n",
    "\n",
    "def preprocess_imdb(review):\n",
    "    # clean and tokenize\n",
    "    words_list = text_to_word_sequence(review)\n",
    "    # init array\n",
    "    words_index_list = []\n",
    "    # INDEX_START as first element in sequence (keras convention)\n",
    "    words_index_list.append(INDEX_START)\n",
    "    #words_index_list[0] = INDEX_START"
   ]
  },
  {
   "cell_type": "code",
   "execution_count": null,
   "id": "2e368ca4",
   "metadata": {
    "id": "2e368ca4"
   },
   "outputs": [],
   "source": []
  },
  {
   "cell_type": "code",
   "execution_count": null,
   "id": "92f50d1e",
   "metadata": {
    "id": "92f50d1e"
   },
   "outputs": [],
   "source": []
  },
  {
   "cell_type": "code",
   "execution_count": null,
   "id": "fad60517",
   "metadata": {
    "id": "fad60517"
   },
   "outputs": [],
   "source": []
  },
  {
   "cell_type": "code",
   "execution_count": null,
   "id": "4d4a5896",
   "metadata": {
    "id": "4d4a5896"
   },
   "outputs": [],
   "source": []
  },
  {
   "cell_type": "code",
   "execution_count": null,
   "id": "a993fca3",
   "metadata": {
    "colab": {
     "base_uri": "https://localhost:8080/"
    },
    "id": "a993fca3",
    "outputId": "7a07693a-0457-4f7c-c297-d4ef8bb0df78"
   },
   "outputs": [
    {
     "name": "stdout",
     "output_type": "stream",
     "text": [
      "clearing directory '/content/data'\n",
      "/content/data files extracted successfully\n"
     ]
    }
   ],
   "source": [
    "%%time\n",
    "drive_folder = '/content/drive/MyDrive/ML_Project/NLP/Project2/'\n",
    "zip_filename = 'glove.6B.zip'\n",
    "directory_to_extract_to = '/content/data' \n",
    "# Path\n",
    "location = \".\"\n",
    "path = os.path.join(location, directory_to_extract_to)\n",
    "try:\n",
    "    for root, dirs, files in os.walk(path, topdown=False):\n",
    "        for name in files:\n",
    "            os.remove(os.path.join(root, name))\n",
    "        for name in dirs:\n",
    "            os.rmdir(os.path.join(root, name))\n",
    "            \n",
    "    print(\"clearing directory '%s'\"%(path))\n",
    "except Exception as e:\n",
    "    print(e)\n",
    "os.mkdir(path)\n",
    "if os.path.exists(path):\n",
    "    with zf(os.path.join(drive_folder, zip_filename), 'r') as zip_ref:\n",
    "        zip_ref.extractall(directory_to_extract_to)\n",
    "        \n",
    "print(\"% s files extracted successfully\" % directory_to_extract_to)      \n"
   ]
  },
  {
   "cell_type": "code",
   "execution_count": null,
   "id": "4f90ecd7",
   "metadata": {
    "id": "4f90ecd7"
   },
   "outputs": [],
   "source": []
  },
  {
   "cell_type": "code",
   "execution_count": null,
   "id": "9be9ae75",
   "metadata": {
    "id": "9be9ae75"
   },
   "outputs": [],
   "source": []
  },
  {
   "cell_type": "code",
   "execution_count": null,
   "id": "afbd2255",
   "metadata": {
    "id": "afbd2255"
   },
   "outputs": [],
   "source": []
  },
  {
   "cell_type": "code",
   "execution_count": null,
   "id": "65d9fc86",
   "metadata": {
    "id": "65d9fc86"
   },
   "outputs": [],
   "source": []
  },
  {
   "cell_type": "code",
   "execution_count": null,
   "id": "9a14ad3e",
   "metadata": {
    "id": "9a14ad3e"
   },
   "outputs": [],
   "source": []
  },
  {
   "cell_type": "code",
   "execution_count": null,
   "id": "94bdc79f",
   "metadata": {
    "id": "94bdc79f"
   },
   "outputs": [],
   "source": []
  },
  {
   "cell_type": "code",
   "execution_count": null,
   "id": "e587b41f",
   "metadata": {
    "id": "e587b41f"
   },
   "outputs": [],
   "source": []
  },
  {
   "cell_type": "code",
   "execution_count": null,
   "id": "7eedae8f",
   "metadata": {
    "id": "7eedae8f"
   },
   "outputs": [],
   "source": []
  }
 ],
 "metadata": {
  "accelerator": "GPU",
  "colab": {
   "provenance": []
  },
  "gpuClass": "standard",
  "kernelspec": {
   "display_name": "Python 3 (ipykernel)",
   "language": "python",
   "name": "python3"
  },
  "language_info": {
   "codemirror_mode": {
    "name": "ipython",
    "version": 3
   },
   "file_extension": ".py",
   "mimetype": "text/x-python",
   "name": "python",
   "nbconvert_exporter": "python",
   "pygments_lexer": "ipython3",
   "version": "3.9.12"
  }
 },
 "nbformat": 4,
 "nbformat_minor": 5
}
